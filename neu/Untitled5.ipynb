{
 "cells": [
  {
   "cell_type": "code",
   "execution_count": 3,
   "metadata": {},
   "outputs": [],
   "source": [
    "class Polynom(object):\n",
    "    \"\"\" Polynomklasse Beschreibung .....\n",
    "    \"\"\"\n",
    "    def __init__(self,dp): \n",
    "        if isinstance(dp,(int,float,complex)):\n",
    "            dp = {0:dp}#dictionary\n",
    "        self.dp = dp #dictionary polynom\n",
    "        self.degree = max(dp.keys()) #{keys: values}\n",
    "        \n",
    "    def __repr__(self):\n",
    "        polystr = ''\n",
    "        for k in sorted(self.dp):\n",
    "            polystr = polystr + '{0:+g}*X^{1}'.format(self.dp[k],k)\n",
    "        return 'Polynom: ' + polystr \n",
    "    \n",
    "    def __add__(self,other):\n",
    "        spow = set(self.dp.keys())\n",
    "        opow = set(other.dp.keys())\n",
    "        pows = spow.union(opow) #vereinigung 2er mengen\n",
    "        pps = dict()\n",
    "        for k in pows:\n",
    "            if k in spow:\n",
    "                if k in opow:\n",
    "                    pps[k] = self.dp[k] + other.dp[k]\n",
    "                else:\n",
    "                    pps[k] = self.dp[k]\n",
    "            else:\n",
    "                pps[k] =  other.dp[k]\n",
    "        \n",
    "        return Polynom(pps)\n",
    "    \n",
    "    def __sub__(self,other):\n",
    "        \"\"\" Substraktion zweier Polynomen \n",
    "        \"\"\"\n",
    "        selfpow = set(self.dp.keys()) #dumm\n",
    "        otherpow = set(other.dp.keys()) #duemmer\n",
    "        pows = selfpow.union(otherpow)\n",
    "        erg = dict()\n",
    "        for k in pows:\n",
    "            if k in selfpow:\n",
    "                if k in otherpow:\n",
    "                    erg[k] = self.dp[k] - other.dp[k]\n",
    "                else:\n",
    "                    erg[k] = self.dp[k] #<-koeff von x**k\n",
    "            else:\n",
    "                erg[k] =  -other.dp[k]\n",
    "        \n",
    "        return Polynom(erg)\n",
    "    \n",
    "    def __call__(self,x): #\n",
    "        \"\"\" Auswertung des Polynoms \n",
    "        \"\"\"\n",
    "        return sum([self.dp[k]*x**k for k in self.dp])\n",
    "    \n",
    "    def __mul__(self,other):\n",
    "        \"\"\" Multiplikation eines Polynoms mit einem Skalar \n",
    "        TODO Polynommultiplikation\n",
    "        \"\"\"\n",
    "        erg = dict()\n",
    "        if isinstance(other,(int,float,complex)):\n",
    "            for k in self.dp:\n",
    "                erg[k] = self.dp[k] *other\n",
    "        elif isinstance(other, Polynom):\n",
    "            for i in self.dp:\n",
    "                for j in other.dp:\n",
    "                    if (i+j) in erg.keys():\n",
    "                        erg[i+j] += self.dp[i] * other.dp[j]\n",
    "                    else:\n",
    "                        erg[i+j] = self.dp[i] * other.dp[j]\n",
    "        return Polynom(erg)\n",
    "    __rmul__ = __mul__ \n",
    "            \n",
    "    def diff(self):\n",
    "        abl = dict()\n",
    "        for k in self.dp.keys():\n",
    "            if k != 0:\n",
    "                abl[k-1] = k * self.dp[k]\n",
    "        return Polynom(abl)\n",
    "    \n",
    "    def inte(self):\n",
    "        integ = dict()\n",
    "        for k in self.dp.keys():\n",
    "            integ[k+1] = (1/(k+1)) *self.dp[k]\n",
    "        return Polynom(integ)\n",
    "    \n",
    "    def integral(self, a, b):\n",
    "        intb = (self.inte())(b) - (self.inte())(a) #call\n",
    "        return intb"
   ]
  },
  {
   "cell_type": "code",
   "execution_count": 12,
   "metadata": {},
   "outputs": [
    {
     "data": {
      "text/plain": [
       "Polynom: +1*X^0+16*X^1+0*X^2+20*X^3"
      ]
     },
     "execution_count": 12,
     "metadata": {},
     "output_type": "execute_result"
    }
   ],
   "source": [
    "P = Polynom({0:3, 1:1, 2:8, 3:0, 4:5})\n",
    "P.diff()"
   ]
  },
  {
   "cell_type": "code",
   "execution_count": 13,
   "metadata": {},
   "outputs": [
    {
     "data": {
      "text/plain": [
       "7.166666666666666"
      ]
     },
     "execution_count": 13,
     "metadata": {},
     "output_type": "execute_result"
    }
   ],
   "source": [
    "P.integral(0,1)"
   ]
  },
  {
   "cell_type": "code",
   "execution_count": null,
   "metadata": {},
   "outputs": [],
   "source": []
  }
 ],
 "metadata": {
  "kernelspec": {
   "display_name": "Python 3",
   "language": "python",
   "name": "python3"
  },
  "language_info": {
   "codemirror_mode": {
    "name": "ipython",
    "version": 3
   },
   "file_extension": ".py",
   "mimetype": "text/x-python",
   "name": "python",
   "nbconvert_exporter": "python",
   "pygments_lexer": "ipython3",
   "version": "3.6.5"
  }
 },
 "nbformat": 4,
 "nbformat_minor": 2
}
