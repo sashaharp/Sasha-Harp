{
 "cells": [
  {
   "cell_type": "code",
   "execution_count": 17,
   "metadata": {},
   "outputs": [],
   "source": [
    "from math import gcd\n",
    "\n",
    "class Bruch(object):\n",
    "    def __init__(self, z, n):\n",
    "        if n == 0:\n",
    "            z = 0\n",
    "            print(\"Divided by zero\")\n",
    "        self.Zahler, self.Nenner = Bruch.kuerzen(z, n) #self.zahler = z; self.nenner = n \n",
    "                                   # wenn kein self -> Klassenname.Methodenname\n",
    "        \n",
    "    def __mul__(self,other):\n",
    "        if other is int:\n",
    "            return Bruch(self.Zahler * other, self.Nenner)\n",
    "        elif isinstance(other, Bruch):\n",
    "            return Bruch(self.Zahler*other.Zahler, self.Nenner*other.Nenner)\n",
    "        else:\n",
    "            raise NotImplementedError #abbruch\n",
    "            \n",
    "    def __div__(self,other):\n",
    "        if other is int:\n",
    "            if other == 0:\n",
    "                return Bruch(0,0)\n",
    "            return Bruch(self.Zahler, self.Nenner * other)\n",
    "        elif isinstance(other, Bruch):\n",
    "            return Bruch(self.Zahler*other.Nenner, self.Nenner*other.Zahler)\n",
    "        else:\n",
    "            raise NotImplementedError #abbruch\n",
    "                \n",
    "    def __add__(self,other):\n",
    "        if other is int:\n",
    "            return Bruch(self.Zahler + other * self.Nenner, self.Nenner)\n",
    "        elif isinstance(other, Bruch):\n",
    "            return Bruch(self.Nenner * other.Nenner + other.Zahler * self.Nenner, self.Zahler * other.Nenner)\n",
    "        else:\n",
    "            raise NotImplementedError #abbruch\n",
    "            \n",
    "    \n",
    "    def __sub__(self,other):\n",
    "        if other is int:\n",
    "            return Bruch(self.Zahler - other * self.Nenner, self.Nenner)\n",
    "        elif isinstance(other, Bruch):\n",
    "            return Bruch(self.Nenner * other.Nenner - other.Zahler * self.Nenner, self.Zahler * other.Nenner)\n",
    "        else:\n",
    "            raise NotImplementedError #abbruch\n",
    "            \n",
    "    def tofloat(self):\n",
    "        return self.Zahler / self.Nenner\n",
    "    \n",
    "    def kuerzen(z, n): # erst alle methoden mit self\n",
    "        return z//gcd(z, n), n//gcd(z, n) #ganzzahlig damit integer beibeh\n",
    "    \n"
   ]
  },
  {
   "cell_type": "code",
   "execution_count": 18,
   "metadata": {},
   "outputs": [],
   "source": [
    "a = Bruch(4, 7)\n",
    "b = Bruch(5, 8)\n",
    "c = a+b"
   ]
  },
  {
   "cell_type": "code",
   "execution_count": 21,
   "metadata": {},
   "outputs": [
    {
     "data": {
      "text/plain": [
       "(91, 32)"
      ]
     },
     "execution_count": 21,
     "metadata": {},
     "output_type": "execute_result"
    }
   ],
   "source": [
    "c.Zahler, c.Nenner"
   ]
  },
  {
   "cell_type": "code",
   "execution_count": null,
   "metadata": {},
   "outputs": [],
   "source": []
  }
 ],
 "metadata": {
  "kernelspec": {
   "display_name": "Python 3",
   "language": "python",
   "name": "python3"
  },
  "language_info": {
   "codemirror_mode": {
    "name": "ipython",
    "version": 3
   },
   "file_extension": ".py",
   "mimetype": "text/x-python",
   "name": "python",
   "nbconvert_exporter": "python",
   "pygments_lexer": "ipython3",
   "version": "3.6.5"
  }
 },
 "nbformat": 4,
 "nbformat_minor": 2
}
