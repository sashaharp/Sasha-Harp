{
 "cells": [
  {
   "cell_type": "code",
   "execution_count": 1,
   "metadata": {},
   "outputs": [],
   "source": [
    "import numpy as np\n",
    "import matplotlib.pylab as plt"
   ]
  },
  {
   "cell_type": "code",
   "execution_count": 64,
   "metadata": {},
   "outputs": [
    {
     "data": {
      "text/plain": [
       "<matplotlib.image.AxesImage at 0x285f0bd2448>"
      ]
     },
     "execution_count": 64,
     "metadata": {},
     "output_type": "execute_result"
    },
    {
     "data": {
      "image/png": "[encoded data removed]",
      "text/plain": [
       "<Figure size 432x288 with 1 Axes>"
      ]
     },
     "metadata": {
      "needs_background": "light"
     },
     "output_type": "display_data"
    }
   ],
   "source": [
    "im = plt.imread(\"test.bmp\")\n",
    "im\n",
    "imBnW = [[(0 if (x == [255, 255, 255, 255]).all() else 1) for x in y] for y in im]\n",
    "plt.imshow(imBnW)"
   ]
  },
  {
   "cell_type": "code",
   "execution_count": 105,
   "metadata": {},
   "outputs": [
    {
     "data": {
      "text/plain": [
       "array([[14, 33],\n",
       "       [14, 34],\n",
       "       [14, 35],\n",
       "       [14, 36],\n",
       "       [15, 32],\n",
       "       [16, 31],\n",
       "       [17, 30],\n",
       "       [18, 28],\n",
       "       [18, 29],\n",
       "       [19, 27],\n",
       "       [20, 26],\n",
       "       [21, 25],\n",
       "       [21, 26],\n",
       "       [22, 24],\n",
       "       [22, 25],\n",
       "       [23, 24],\n",
       "       [24, 23],\n",
       "       [25, 22],\n",
       "       [26, 22],\n",
       "       [27, 21],\n",
       "       [28, 19],\n",
       "       [28, 20],\n",
       "       [29, 19],\n",
       "       [30, 18],\n",
       "       [30, 19],\n",
       "       [31, 18],\n",
       "       [32, 18],\n",
       "       [33, 17],\n",
       "       [34, 17],\n",
       "       [35, 17],\n",
       "       [36, 16],\n",
       "       [37, 15],\n",
       "       [37, 16],\n",
       "       [38, 14],\n",
       "       [38, 15],\n",
       "       [39, 13],\n",
       "       [39, 14],\n",
       "       [40, 11],\n",
       "       [40, 12],\n",
       "       [40, 13],\n",
       "       [41,  9],\n",
       "       [41, 10],\n",
       "       [42,  6],\n",
       "       [42,  7],\n",
       "       [42,  8]])"
      ]
     },
     "execution_count": 105,
     "metadata": {},
     "output_type": "execute_result"
    }
   ],
   "source": [
    "sample = []\n",
    "for x in range(len(imBnW)):\n",
    "    for y in range(len(imBnW[0])):\n",
    "        if imBnW[x][y]==1:\n",
    "            sample.append([x, y])\n",
    "sample = np.array(sample)\n",
    "sample"
   ]
  },
  {
   "cell_type": "code",
   "execution_count": 106,
   "metadata": {},
   "outputs": [
    {
     "data": {
      "text/plain": [
       "array([[42.        ,  6.        ],\n",
       "       [32.66666667, 16.        ],\n",
       "       [23.33333333, 26.        ],\n",
       "       [14.        , 36.        ]])"
      ]
     },
     "execution_count": 106,
     "metadata": {},
     "output_type": "execute_result"
    }
   ],
   "source": [
    "start = [42, 6]\n",
    "end = [14, 36]\n",
    "BP = np.array([start, [start[0]+(end[0]-start[0])/3.0, start[1]+(end[1]-start[1])/3.0], [start[0]+2*(end[0]-start[0])/3.0, start[1]+2*(end[1]-start[1])/3.0], end]) #start point and end point would be given by algo\n",
    "BP"
   ]
  },
  {
   "cell_type": "code",
   "execution_count": 107,
   "metadata": {},
   "outputs": [],
   "source": [
    "def Bezier(points, num):\n",
    "    res = []\n",
    "    ts = np.linspace(0, 1, num)\n",
    "    for t in ts:\n",
    "        res.append(points[0]*(1-t)**3 + points[1]*3*t*(1-t)**2 + points[2]*3*(1-t)*t**2 + points[3]*t**3)\n",
    "    return np.array(res)\n",
    "def reOrder(points, bezier):\n",
    "    p = points.tolist()\n",
    "    rp = []\n",
    "    cp = []\n",
    "    for b in bezier:\n",
    "        s = -1.0\n",
    "        for pp in p:\n",
    "            if s < 0 or np.linalg.norm(b-pp) < s:\n",
    "                s = np.linalg.norm(b-pp)\n",
    "                cp = pp\n",
    "        rp.append(list(cp))\n",
    "        p.remove(cp)\n",
    "    return np.array(rp)\n",
    "def Error(p1, p2):\n",
    "    sum = 0\n",
    "    for x in range(min(len(p1), len(p2))):\n",
    "        sum += np.linalg.norm(p1[x]-p2[x])**2\n",
    "    return sum"
   ]
  },
  {
   "cell_type": "code",
   "execution_count": 108,
   "metadata": {},
   "outputs": [
    {
     "name": "stdout",
     "output_type": "stream",
     "text": [
      "[[42.          6.        ]\n",
      " [32.66666667 16.        ]\n",
      " [23.33333333 26.        ]\n",
      " [14.         36.        ]]\n",
      "[[42.          6.        ]\n",
      " [35.66666667 22.5       ]\n",
      " [17.33333333 21.        ]\n",
      " [14.         36.        ]]\n"
     ]
    }
   ],
   "source": [
    "sample = reOrder(sample, Bezier(BP, len(sample)))\n",
    "adjust = np.array([[[0, 0], [x%3-1, (x//3)%3-1], [(x//9)%3-1, (x//27)%3-1], [0, 0]] for x in range(81)])/2.0\n",
    "doNext = True\n",
    "print(BP)\n",
    "while doNext:\n",
    "    maxDiff = []\n",
    "    currB = Bezier(BP, len(sample))\n",
    "    err = Error(currB, sample)\n",
    "    for a in adjust:\n",
    "        newBP = BP + a\n",
    "        newB = Bezier(newBP, len(sample))\n",
    "        newErr = Error(newB, sample)\n",
    "        #print(newErr)\n",
    "        if err - newErr > 0.01:\n",
    "            err = newErr\n",
    "            maxDiff = a\n",
    "    if len(maxDiff) != 0:\n",
    "        BP = BP + maxDiff\n",
    "    else:\n",
    "        doNext = False\n",
    "print(BP)"
   ]
  },
  {
   "cell_type": "code",
   "execution_count": 110,
   "metadata": {},
   "outputs": [
    {
     "data": {
      "text/plain": [
       "<matplotlib.collections.PathCollection at 0x285f203bcc8>"
      ]
     },
     "execution_count": 110,
     "metadata": {},
     "output_type": "execute_result"
    },
    {
     "data": {
      "image/png": "[encoded data removed]",
      "text/plain": [
       "<Figure size 432x288 with 1 Axes>"
      ]
     },
     "metadata": {
      "needs_background": "light"
     },
     "output_type": "display_data"
    }
   ],
   "source": [
    "plt.scatter(Bezier(BP, len(sample))[:,0], Bezier(BP, len(sample))[:,1])\n",
    "plt.scatter(sample[:,0], sample[:,1])"
   ]
  },
  {
   "cell_type": "code",
   "execution_count": 104,
   "metadata": {},
   "outputs": [
    {
     "data": {
      "text/plain": [
       "array([42, 42, 42, 41, 41, 40, 40, 39, 38, 37, 36, 37, 34, 33, 35, 32, 31,\n",
       "       30, 30, 29, 28, 28, 27, 26, 25, 24, 23, 22, 22, 21, 21, 20, 19, 18,\n",
       "       18, 17, 16, 15, 14, 14, 14, 14, 38, 39, 40])"
      ]
     },
     "execution_count": 104,
     "metadata": {},
     "output_type": "execute_result"
    }
   ],
   "source": []
  },
  {
   "cell_type": "code",
   "execution_count": null,
   "metadata": {},
   "outputs": [],
   "source": []
  }
 ],
 "metadata": {
  "kernelspec": {
   "display_name": "Python 3",
   "language": "python",
   "name": "python3"
  },
  "language_info": {
   "codemirror_mode": {
    "name": "ipython",
    "version": 3
   },
   "file_extension": ".py",
   "mimetype": "text/x-python",
   "name": "python",
   "nbconvert_exporter": "python",
   "pygments_lexer": "ipython3",
   "version": "3.7.4"
  }
 },
 "nbformat": 4,
 "nbformat_minor": 2
}
