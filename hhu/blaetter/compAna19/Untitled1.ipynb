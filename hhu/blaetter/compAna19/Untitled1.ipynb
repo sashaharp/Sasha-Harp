{
 "cells": [
  {
   "cell_type": "code",
   "execution_count": 17,
   "metadata": {},
   "outputs": [],
   "source": [
    "from sympy import *"
   ]
  },
  {
   "cell_type": "code",
   "execution_count": 19,
   "metadata": {},
   "outputs": [],
   "source": [
    "x = Symbol('x')\n",
    "f = x**2*sin(sympy.pi*x)\n",
    "g = (x-1)*exp(x)"
   ]
  },
  {
   "cell_type": "code",
   "execution_count": 25,
   "metadata": {},
   "outputs": [
    {
     "name": "stdout",
     "output_type": "stream",
     "text": [
      "0\n",
      "0\n"
     ]
    }
   ],
   "source": [
    "h = Piecewise((f, x>=1), (g, x<1))\n",
    "print(limit(h, x, 1, dir=\"+\"))\n",
    "print(limit(h, x, 1, dir=\"-\"))"
   ]
  },
  {
   "cell_type": "code",
   "execution_count": 37,
   "metadata": {},
   "outputs": [
    {
     "name": "stdout",
     "output_type": "stream",
     "text": [
      "Piecewise(((x - 2)*exp(x), x <= 1), (-x**2*cos(pi*x)/pi + 2*x*sin(pi*x)/pi**2 + 2*cos(pi*x)/pi**3 - E - 1/pi + 2/pi**3, True))\n",
      "Piecewise((-x**2*cos(pi*x)/pi + 2*x*sin(pi*x)/pi**2 + 2*cos(pi*x)/pi**3, x >= 1), ((x - 2)*exp(x), True))\n"
     ]
    }
   ],
   "source": [
    "F=Integral(f,x).doit()\n",
    "G=Integral(g,x).doit()\n",
    "H=Integral(h,x).doit()\n",
    "print(H)\n",
    "print(Piecewise((F, x>=1), (G, x<1)))"
   ]
  },
  {
   "cell_type": "code",
   "execution_count": null,
   "metadata": {},
   "outputs": [],
   "source": []
  }
 ],
 "metadata": {
  "kernelspec": {
   "display_name": "Python 3",
   "language": "python",
   "name": "python3"
  },
  "language_info": {
   "codemirror_mode": {
    "name": "ipython",
    "version": 3
   },
   "file_extension": ".py",
   "mimetype": "text/x-python",
   "name": "python",
   "nbconvert_exporter": "python",
   "pygments_lexer": "ipython3",
   "version": "3.6.7"
  }
 },
 "nbformat": 4,
 "nbformat_minor": 2
}
