{
 "cells": [
  {
   "cell_type": "markdown",
   "metadata": {},
   "source": [
    "## Teil 1"
   ]
  },
  {
   "cell_type": "code",
   "execution_count": 2,
   "metadata": {},
   "outputs": [
    {
     "data": {
      "text/plain": [
       "53644.18029785156"
      ]
     },
     "execution_count": 2,
     "metadata": {},
     "output_type": "execute_result"
    }
   ],
   "source": [
    "from sympy import *\n",
    "10**10*(13**8 + 3**8 * 0.2**13 - 169**4)"
   ]
  },
  {
   "cell_type": "code",
   "execution_count": 3,
   "metadata": {},
   "outputs": [
    {
     "data": {
      "text/plain": [
       "53747.7120000000"
      ]
     },
     "execution_count": 3,
     "metadata": {},
     "output_type": "execute_result"
    }
   ],
   "source": [
    "N(10**10*(13**8 + 3**8 * Rational(1, 5)**13 - 169**4))"
   ]
  },
  {
   "cell_type": "markdown",
   "metadata": {},
   "source": [
    "## Teil 2\n"
   ]
  },
  {
   "cell_type": "code",
   "execution_count": 11,
   "metadata": {},
   "outputs": [
    {
     "data": {
      "text/plain": [
       "sin(x)**2 + cos(x)**2"
      ]
     },
     "execution_count": 11,
     "metadata": {},
     "output_type": "execute_result"
    }
   ],
   "source": [
    "x = Symbol(\"x\")\n",
    "y = Symbol(\"y\")\n",
    "pyth = sin(x)**2 + cos(x)**2\n",
    "pyth"
   ]
  },
  {
   "cell_type": "code",
   "execution_count": 12,
   "metadata": {},
   "outputs": [
    {
     "data": {
      "text/plain": [
       "1"
      ]
     },
     "execution_count": 12,
     "metadata": {},
     "output_type": "execute_result"
    }
   ],
   "source": [
    "pyth.trigsimp()"
   ]
  },
  {
   "cell_type": "code",
   "execution_count": 13,
   "metadata": {},
   "outputs": [
    {
     "data": {
      "text/plain": [
       "exp(x + y)"
      ]
     },
     "execution_count": 13,
     "metadata": {},
     "output_type": "execute_result"
    }
   ],
   "source": [
    "ex = exp(x+y)\n",
    "ex"
   ]
  },
  {
   "cell_type": "code",
   "execution_count": 16,
   "metadata": {},
   "outputs": [
    {
     "data": {
      "text/plain": [
       "exp(x)*exp(y)"
      ]
     },
     "execution_count": 16,
     "metadata": {},
     "output_type": "execute_result"
    }
   ],
   "source": [
    "ex.factor()"
   ]
  },
  {
   "cell_type": "code",
   "execution_count": 17,
   "metadata": {},
   "outputs": [
    {
     "data": {
      "text/plain": [
       "exp(x + y)"
      ]
     },
     "execution_count": 17,
     "metadata": {},
     "output_type": "execute_result"
    }
   ],
   "source": [
    "ex.factor().simplify()"
   ]
  },
  {
   "cell_type": "code",
   "execution_count": 19,
   "metadata": {},
   "outputs": [
    {
     "data": {
      "text/plain": [
       "sin(x + y)"
      ]
     },
     "execution_count": 19,
     "metadata": {},
     "output_type": "execute_result"
    }
   ],
   "source": [
    "si = sin(x + y)\n",
    "si"
   ]
  },
  {
   "cell_type": "code",
   "execution_count": 21,
   "metadata": {},
   "outputs": [
    {
     "data": {
      "text/plain": [
       "sin(x)*cos(y) + sin(y)*cos(x)"
      ]
     },
     "execution_count": 21,
     "metadata": {},
     "output_type": "execute_result"
    }
   ],
   "source": [
    "si.expand(trig = True)"
   ]
  },
  {
   "cell_type": "code",
   "execution_count": 22,
   "metadata": {},
   "outputs": [
    {
     "data": {
      "text/plain": [
       "sin(x + y)"
      ]
     },
     "execution_count": 22,
     "metadata": {},
     "output_type": "execute_result"
    }
   ],
   "source": [
    "si.expand(trig = True).trigsimp()"
   ]
  },
  {
   "cell_type": "markdown",
   "metadata": {},
   "source": [
    "## Teil 3"
   ]
  },
  {
   "cell_type": "code",
   "execution_count": 5,
   "metadata": {},
   "outputs": [],
   "source": [
    "n = factorial(500)"
   ]
  },
  {
   "cell_type": "code",
   "execution_count": 6,
   "metadata": {},
   "outputs": [
    {
     "data": {
      "text/plain": [
       "1220136825991110068701238785423046926253574342803192842192413588385845373153881997605496447502203281863013616477148203584163378722078177200480785205159329285477907571939330603772960859086270429174547882424912726344305670173270769461062802310452644218878789465754777149863494367781037644274033827365397471386477878495438489595537537990423241061271326984327745715546309977202781014561081188373709531016356324432987029563896628911658974769572087926928871281780070265174507768410719624390394322536422605234945850129918571501248706961568141625359056693423813008856249246891564126775654481886506593847951775360894005745238940335798476363944905313062323749066445048824665075946735862074637925184200459369692981022263971952597190945217823331756934581508552332820762820023402626907898342451712006207714640979456116127629145951237229913340169552363850942885592018727433795173014586357570828355780158735432768888680120399882384702151467605445407663535984174430480128938313896881639487469658817504506926365338175055478128640000000000000000000000000000000000000000000000000000000000000000000000000000000000000000000000000000000000000000000000000000"
      ]
     },
     "execution_count": 6,
     "metadata": {},
     "output_type": "execute_result"
    }
   ],
   "source": [
    "n.factor()"
   ]
  },
  {
   "cell_type": "code",
   "execution_count": 7,
   "metadata": {},
   "outputs": [
    {
     "data": {
      "text/plain": [
       "{2: 494,\n",
       " 3: 247,\n",
       " 5: 124,\n",
       " 7: 82,\n",
       " 11: 49,\n",
       " 13: 40,\n",
       " 17: 30,\n",
       " 19: 27,\n",
       " 23: 21,\n",
       " 29: 17,\n",
       " 31: 16,\n",
       " 37: 13,\n",
       " 41: 12,\n",
       " 43: 11,\n",
       " 47: 10,\n",
       " 53: 9,\n",
       " 59: 8,\n",
       " 61: 8,\n",
       " 67: 7,\n",
       " 71: 7,\n",
       " 73: 6,\n",
       " 79: 6,\n",
       " 83: 6,\n",
       " 89: 5,\n",
       " 97: 5,\n",
       " 101: 4,\n",
       " 103: 4,\n",
       " 107: 4,\n",
       " 109: 4,\n",
       " 113: 4,\n",
       " 127: 3,\n",
       " 131: 3,\n",
       " 137: 3,\n",
       " 139: 3,\n",
       " 149: 3,\n",
       " 151: 3,\n",
       " 157: 3,\n",
       " 163: 3,\n",
       " 167: 2,\n",
       " 173: 2,\n",
       " 179: 2,\n",
       " 181: 2,\n",
       " 191: 2,\n",
       " 193: 2,\n",
       " 197: 2,\n",
       " 199: 2,\n",
       " 211: 2,\n",
       " 223: 2,\n",
       " 227: 2,\n",
       " 229: 2,\n",
       " 233: 2,\n",
       " 239: 2,\n",
       " 241: 2,\n",
       " 251: 1,\n",
       " 257: 1,\n",
       " 263: 1,\n",
       " 269: 1,\n",
       " 271: 1,\n",
       " 277: 1,\n",
       " 281: 1,\n",
       " 283: 1,\n",
       " 293: 1,\n",
       " 307: 1,\n",
       " 311: 1,\n",
       " 313: 1,\n",
       " 317: 1,\n",
       " 331: 1,\n",
       " 337: 1,\n",
       " 347: 1,\n",
       " 349: 1,\n",
       " 353: 1,\n",
       " 359: 1,\n",
       " 367: 1,\n",
       " 373: 1,\n",
       " 379: 1,\n",
       " 383: 1,\n",
       " 389: 1,\n",
       " 397: 1,\n",
       " 401: 1,\n",
       " 409: 1,\n",
       " 419: 1,\n",
       " 421: 1,\n",
       " 431: 1,\n",
       " 433: 1,\n",
       " 439: 1,\n",
       " 443: 1,\n",
       " 449: 1,\n",
       " 457: 1,\n",
       " 461: 1,\n",
       " 463: 1,\n",
       " 467: 1,\n",
       " 479: 1,\n",
       " 487: 1,\n",
       " 491: 1,\n",
       " 499: 1}"
      ]
     },
     "execution_count": 7,
     "metadata": {},
     "output_type": "execute_result"
    }
   ],
   "source": [
    "f = factorint(n)\n",
    "f"
   ]
  },
  {
   "cell_type": "code",
   "execution_count": 8,
   "metadata": {},
   "outputs": [
    {
     "data": {
      "text/plain": [
       "0"
      ]
     },
     "execution_count": 8,
     "metadata": {},
     "output_type": "execute_result"
    }
   ],
   "source": [
    "s = 1\n",
    "temp = [a ** b for a, b in f.items()]\n",
    "for t in temp:\n",
    "    s*=t\n",
    "s-n"
   ]
  },
  {
   "cell_type": "markdown",
   "metadata": {},
   "source": [
    "## Teil 4"
   ]
  },
  {
   "cell_type": "code",
   "execution_count": 13,
   "metadata": {},
   "outputs": [],
   "source": [
    "m = Symbol('m', negative = True)\n",
    "x = Symbol('x')\n",
    "x1 = Symbol('x', positive = True)\n",
    "#x1.subs(x1, -1)"
   ]
  },
  {
   "cell_type": "code",
   "execution_count": 14,
   "metadata": {},
   "outputs": [
    {
     "data": {
      "text/plain": [
       "(m + 1)*Abs(m)"
      ]
     },
     "execution_count": 14,
     "metadata": {},
     "output_type": "execute_result"
    }
   ],
   "source": [
    "f = sqrt(x1**2*(x1-1)**2)\n",
    "f.subs(x1, m+1).simplify()"
   ]
  },
  {
   "cell_type": "raw",
   "metadata": {},
   "source": []
  },
  {
   "cell_type": "code",
   "execution_count": null,
   "metadata": {},
   "outputs": [],
   "source": []
  }
 ],
 "metadata": {
  "kernelspec": {
   "display_name": "Python 3",
   "language": "python",
   "name": "python3"
  },
  "language_info": {
   "codemirror_mode": {
    "name": "ipython",
    "version": 3
   },
   "file_extension": ".py",
   "mimetype": "text/x-python",
   "name": "python",
   "nbconvert_exporter": "python",
   "pygments_lexer": "ipython3",
   "version": "3.6.7"
  }
 },
 "nbformat": 4,
 "nbformat_minor": 2
}
