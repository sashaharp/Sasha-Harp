{
 "cells": [
  {
   "cell_type": "code",
   "execution_count": 8,
   "metadata": {},
   "outputs": [],
   "source": [
    "from sympy import *\n",
    "init_printing()"
   ]
  },
  {
   "cell_type": "code",
   "execution_count": 9,
   "metadata": {},
   "outputs": [],
   "source": [
    "r = S('r')\n",
    "phi = S('phi')\n",
    "the = S('theta')\n",
    "f = r*cos(phi)*cos(the)\n",
    "g = r*sin(phi)*cos(the)\n",
    "h = r*sin(the)"
   ]
  },
  {
   "cell_type": "code",
   "execution_count": 10,
   "metadata": {},
   "outputs": [],
   "source": [
    "dfdr = diff(f, r)\n",
    "dfdt = diff(f, the)\n",
    "dfdp = diff(f, phi)\n",
    "dgdr = diff(g, r)\n",
    "dgdt = diff(g, the)\n",
    "dgdp = diff(g, phi)\n",
    "dhdr = diff(h, r)\n",
    "dhdt = diff(h, the)\n",
    "dhdp = diff(h, phi)"
   ]
  },
  {
   "cell_type": "code",
   "execution_count": 11,
   "metadata": {},
   "outputs": [
    {
     "data": {
      "text/latex": [
       "$$\\left[\\begin{matrix}\\cos{\\left (\\phi \\right )} \\cos{\\left (\\theta \\right )} & - r \\sin{\\left (\\theta \\right )} \\cos{\\left (\\phi \\right )} & - r \\sin{\\left (\\phi \\right )} \\cos{\\left (\\theta \\right )}\\\\\\sin{\\left (\\phi \\right )} \\cos{\\left (\\theta \\right )} & - r \\sin{\\left (\\phi \\right )} \\sin{\\left (\\theta \\right )} & r \\cos{\\left (\\phi \\right )} \\cos{\\left (\\theta \\right )}\\\\\\sin{\\left (\\theta \\right )} & r \\cos{\\left (\\theta \\right )} & 0\\end{matrix}\\right]$$"
      ],
      "text/plain": [
       "⎡cos(φ)⋅cos(θ)  -r⋅sin(θ)⋅cos(φ)  -r⋅sin(φ)⋅cos(θ)⎤\n",
       "⎢                                                 ⎥\n",
       "⎢sin(φ)⋅cos(θ)  -r⋅sin(φ)⋅sin(θ)  r⋅cos(φ)⋅cos(θ) ⎥\n",
       "⎢                                                 ⎥\n",
       "⎣   sin(θ)          r⋅cos(θ)             0        ⎦"
      ]
     },
     "execution_count": 11,
     "metadata": {},
     "output_type": "execute_result"
    }
   ],
   "source": [
    "jakobi = Matrix([[dfdr, dfdt, dfdp],[dgdr, dgdt, dgdp],[dhdr, dhdt, dhdp]])\n",
    "jakobi"
   ]
  },
  {
   "cell_type": "code",
   "execution_count": 12,
   "metadata": {},
   "outputs": [
    {
     "data": {
      "image/png": "[encoded data removed]",
      "text/latex": [
       "$$- r^{2} \\cos{\\left (\\theta \\right )}$$"
      ],
      "text/plain": [
       "  2       \n",
       "-r ⋅cos(θ)"
      ]
     },
     "execution_count": 12,
     "metadata": {},
     "output_type": "execute_result"
    }
   ],
   "source": [
    "jakobi.det().simplify()"
   ]
  },
  {
   "cell_type": "code",
   "execution_count": 15,
   "metadata": {},
   "outputs": [
    {
     "data": {
      "image/png": "[encoded data removed]",
      "text/latex": [
       "$$0$$"
      ],
      "text/plain": [
       "0"
      ]
     },
     "execution_count": 15,
     "metadata": {},
     "output_type": "execute_result"
    }
   ],
   "source": [
    "solve(jakobi.det().simplify(), r)[0]"
   ]
  },
  {
   "cell_type": "code",
   "execution_count": 17,
   "metadata": {},
   "outputs": [
    {
     "data": {
      "image/png": "[encoded data removed]",
      "text/latex": [
       "$$\\frac{\\pi \\left(2 k + 1\\right)}{2}$$"
      ],
      "text/plain": [
       "π⋅(2⋅k + 1)\n",
       "───────────\n",
       "     2     "
      ]
     },
     "execution_count": 17,
     "metadata": {},
     "output_type": "execute_result"
    }
   ],
   "source": [
    "k = S('k')\n",
    "(2*k+1)*solve(jakobi.det().simplify(), the)[0]"
   ]
  },
  {
   "cell_type": "code",
   "execution_count": null,
   "metadata": {},
   "outputs": [],
   "source": []
  }
 ],
 "metadata": {
  "kernelspec": {
   "display_name": "Python 3",
   "language": "python",
   "name": "python3"
  },
  "language_info": {
   "codemirror_mode": {
    "name": "ipython",
    "version": 3
   },
   "file_extension": ".py",
   "mimetype": "text/x-python",
   "name": "python",
   "nbconvert_exporter": "python",
   "pygments_lexer": "ipython3",
   "version": "3.6.7"
  }
 },
 "nbformat": 4,
 "nbformat_minor": 2
}
