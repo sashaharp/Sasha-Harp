{
 "cells": [
  {
   "cell_type": "code",
   "execution_count": 2,
   "metadata": {},
   "outputs": [
    {
     "data": {
      "text/plain": [
       "array([12.    , 11.0592, 10.1568,  9.2928,  8.4672,  7.68  ,  6.9312,\n",
       "        6.2208,  5.5488,  4.9152,  4.32  ,  3.7632,  3.2448,  2.7648,\n",
       "        2.3232,  1.92  ,  1.5552,  1.2288,  0.9408,  0.6912,  0.48  ,\n",
       "        0.3072,  0.1728,  0.0768,  0.0192,  0.    ,  0.0192,  0.0768,\n",
       "        0.1728,  0.3072,  0.48  ,  0.6912,  0.9408,  1.2288,  1.5552,\n",
       "        1.92  ,  2.3232,  2.7648,  3.2448,  3.7632,  4.32  ,  4.9152,\n",
       "        5.5488,  6.2208,  6.9312,  7.68  ,  8.4672,  9.2928, 10.1568,\n",
       "       11.0592, 12.    ])"
      ]
     },
     "execution_count": 2,
     "metadata": {},
     "output_type": "execute_result"
    },
    {
     "data": {
      "image/png": "[encoded data removed]",
      "text/plain": [
       "<Figure size 432x288 with 1 Axes>"
      ]
     },
     "metadata": {
      "needs_background": "light"
     },
     "output_type": "display_data"
    }
   ],
   "source": [
    "import numpy as np\n",
    "import matplotlib.pyplot as plt\n",
    "from mpl_toolkits.mplot3d import Axes3D\n",
    "xn = np.linspace(-2, 2, 51)\n",
    "yn = np.linspace(-2, 2, 51)\n",
    "#x, y = np.meshgrid(xn, yn)\n",
    "#h = x**3 + y**3 - 3*x*y\n",
    "h = np.abs((xn**3) - (yn**3) - (3*xn*yn))\n",
    "b = (np.abs((xn**3) - (yn**3) - (3*xn*yn)) < 0.05)\n",
    "#fig = plt.figure()\n",
    "#ax = fig.add_subplot(111, projection='3d')\n",
    "#ax.plot_surface(x, y, h, cmap=plt.cm.viridis, rstride=1, cstride=1, linewidth=2)\n",
    "#plt.savefig('test1.pdf')\n",
    "plt.plot(xn[b], yn[b])\n",
    "plt.axis(xmin=-2, xmax=2, ymin=-2, ymax=2)\n",
    "h"
   ]
  }
 ],
 "metadata": {
  "kernelspec": {
   "display_name": "Python 3",
   "language": "python",
   "name": "python3"
  },
  "language_info": {
   "codemirror_mode": {
    "name": "ipython",
    "version": 3
   },
   "file_extension": ".py",
   "mimetype": "text/x-python",
   "name": "python",
   "nbconvert_exporter": "python",
   "pygments_lexer": "ipython3",
   "version": "3.6.7"
  }
 },
 "nbformat": 4,
 "nbformat_minor": 2
}
