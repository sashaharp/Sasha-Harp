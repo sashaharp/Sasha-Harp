{
 "cells": [
  {
   "cell_type": "code",
   "execution_count": 1,
   "metadata": {},
   "outputs": [],
   "source": [
    "from sympy import *\n",
    "init_printing()"
   ]
  },
  {
   "cell_type": "code",
   "execution_count": 2,
   "metadata": {},
   "outputs": [
    {
     "data": {
      "text/latex": [
       "$$\\left[\\begin{matrix}0 & 1 & 1\\\\- 2 a - 1 & 2 a + 2 & 2 a + 1\\\\a & - a & - a + 1\\end{matrix}\\right]$$"
      ],
      "text/plain": [
       "⎡   0         1        1   ⎤\n",
       "⎢                          ⎥\n",
       "⎢-2⋅a - 1  2⋅a + 2  2⋅a + 1⎥\n",
       "⎢                          ⎥\n",
       "⎣   a        -a     -a + 1 ⎦"
      ]
     },
     "execution_count": 2,
     "metadata": {},
     "output_type": "execute_result"
    }
   ],
   "source": [
    "a = S('a')\n",
    "A= Matrix([[0, S(1), S(1)],[S(-2)*a-1, S(2)*a+2, S(2)*a+1],[a, S(-1)*a, S(-1)*a+1]])\n",
    "A"
   ]
  },
  {
   "cell_type": "code",
   "execution_count": 3,
   "metadata": {},
   "outputs": [
    {
     "data": {
      "image/png": "[encoded data removed]",
      "text/latex": [
       "$$a + 1$$"
      ],
      "text/plain": [
       "a + 1"
      ]
     },
     "execution_count": 3,
     "metadata": {},
     "output_type": "execute_result"
    }
   ],
   "source": [
    "det(A).simplify()"
   ]
  },
  {
   "cell_type": "code",
   "execution_count": 4,
   "metadata": {},
   "outputs": [
    {
     "data": {
      "text/latex": [
       "$$\\left[\\begin{matrix}1 & 1 & - \\frac{1}{a}\\\\1 & 0 & -2 - \\frac{1}{a}\\\\0 & 1 & 1\\end{matrix}\\right]$$"
      ],
      "text/plain": [
       "⎡       -1   ⎤\n",
       "⎢1  1   ───  ⎥\n",
       "⎢        a   ⎥\n",
       "⎢            ⎥\n",
       "⎢           1⎥\n",
       "⎢1  0  -2 - ─⎥\n",
       "⎢           a⎥\n",
       "⎢            ⎥\n",
       "⎣0  1    1   ⎦"
      ]
     },
     "execution_count": 4,
     "metadata": {},
     "output_type": "execute_result"
    }
   ],
   "source": [
    "P, D = A.diagonalize()\n",
    "P"
   ]
  },
  {
   "cell_type": "code",
   "execution_count": 5,
   "metadata": {},
   "outputs": [
    {
     "data": {
      "text/latex": [
       "$$\\left[\\begin{matrix}1 & 0 & 0\\\\0 & 1 & 0\\\\0 & 0 & a + 1\\end{matrix}\\right]$$"
      ],
      "text/plain": [
       "⎡1  0    0  ⎤\n",
       "⎢           ⎥\n",
       "⎢0  1    0  ⎥\n",
       "⎢           ⎥\n",
       "⎣0  0  a + 1⎦"
      ]
     },
     "execution_count": 5,
     "metadata": {},
     "output_type": "execute_result"
    }
   ],
   "source": [
    "D"
   ]
  },
  {
   "cell_type": "code",
   "execution_count": 8,
   "metadata": {},
   "outputs": [
    {
     "data": {
      "text/latex": [
       "$$\\left ( 1, \\quad 2, \\quad \\left [ \\left[\\begin{matrix}1\\\\1\\\\0\\end{matrix}\\right], \\quad \\left[\\begin{matrix}1\\\\0\\\\1\\end{matrix}\\right]\\right ]\\right )$$"
      ],
      "text/plain": [
       "⎛      ⎡⎡1⎤  ⎡1⎤⎤⎞\n",
       "⎜      ⎢⎢ ⎥  ⎢ ⎥⎥⎟\n",
       "⎜1, 2, ⎢⎢1⎥, ⎢0⎥⎥⎟\n",
       "⎜      ⎢⎢ ⎥  ⎢ ⎥⎥⎟\n",
       "⎝      ⎣⎣0⎦  ⎣1⎦⎦⎠"
      ]
     },
     "execution_count": 8,
     "metadata": {},
     "output_type": "execute_result"
    }
   ],
   "source": [
    "a1, a2 = A.eigenvects()\n",
    "a1"
   ]
  },
  {
   "cell_type": "code",
   "execution_count": 9,
   "metadata": {},
   "outputs": [
    {
     "data": {
      "text/latex": [
       "$$\\left[\\begin{matrix}- \\frac{1}{a}\\\\-2 - \\frac{1}{a}\\\\1\\end{matrix}\\right]$$"
      ],
      "text/plain": [
       "⎡ -1   ⎤\n",
       "⎢ ───  ⎥\n",
       "⎢  a   ⎥\n",
       "⎢      ⎥\n",
       "⎢     1⎥\n",
       "⎢-2 - ─⎥\n",
       "⎢     a⎥\n",
       "⎢      ⎥\n",
       "⎣  1   ⎦"
      ]
     },
     "execution_count": 9,
     "metadata": {},
     "output_type": "execute_result"
    }
   ],
   "source": [
    "Matrix([a2[2][0][0].simplify(), a2[2][0][1].simplify(), a2[2][0][2].simplify()])"
   ]
  },
  {
   "cell_type": "code",
   "execution_count": null,
   "metadata": {},
   "outputs": [],
   "source": []
  },
  {
   "cell_type": "code",
   "execution_count": 10,
   "metadata": {},
   "outputs": [
    {
     "data": {
      "text/latex": [
       "$$\\left(\\left[\\begin{matrix}2\\end{matrix}\\right]\\right)^{\\frac{1}{2}}$$"
      ],
      "text/plain": [
       "     1/2\n",
       "([2])   "
      ]
     },
     "execution_count": 10,
     "metadata": {},
     "output_type": "execute_result"
    }
   ],
   "source": [
    "sqrt(a1[2][0].transpose()@a1[2][0])"
   ]
  },
  {
   "cell_type": "code",
   "execution_count": 11,
   "metadata": {},
   "outputs": [
    {
     "data": {
      "image/png": "[encoded data removed]",
      "text/latex": [
       "$$\\sqrt{5 + \\frac{4}{a} + \\frac{2}{a^{2}}}$$"
      ],
      "text/plain": [
       "     ____________\n",
       "    ╱     4   2  \n",
       "   ╱  5 + ─ + ── \n",
       "  ╱       a    2 \n",
       "╲╱            a  "
      ]
     },
     "execution_count": 11,
     "metadata": {},
     "output_type": "execute_result"
    }
   ],
   "source": [
    "sqrt((a2[2][0].transpose()@a2[2][0])[0].simplify())"
   ]
  },
  {
   "cell_type": "code",
   "execution_count": null,
   "metadata": {},
   "outputs": [],
   "source": []
  },
  {
   "cell_type": "code",
   "execution_count": 12,
   "metadata": {},
   "outputs": [
    {
     "ename": "MatrixError",
     "evalue": "Matrix is not diagonalizable",
     "output_type": "error",
     "traceback": [
      "\u001b[0;31m---------------------------------------------------------------------------\u001b[0m",
      "\u001b[0;31mMatrixError\u001b[0m                               Traceback (most recent call last)",
      "\u001b[0;32m<ipython-input-12-87ee19c6cbc1>\u001b[0m in \u001b[0;36m<module>\u001b[0;34m\u001b[0m\n\u001b[0;32m----> 1\u001b[0;31m \u001b[0mA\u001b[0m\u001b[0;34m.\u001b[0m\u001b[0msubs\u001b[0m\u001b[0;34m(\u001b[0m\u001b[0ma\u001b[0m\u001b[0;34m,\u001b[0m \u001b[0;36m0\u001b[0m\u001b[0;34m)\u001b[0m\u001b[0;34m.\u001b[0m\u001b[0mdiagonalize\u001b[0m\u001b[0;34m(\u001b[0m\u001b[0;34m)\u001b[0m\u001b[0;34m\u001b[0m\u001b[0;34m\u001b[0m\u001b[0m\n\u001b[0m",
      "\u001b[0;32m~/.local/lib/python3.6/site-packages/sympy/matrices/matrices.py\u001b[0m in \u001b[0;36mdiagonalize\u001b[0;34m(self, reals_only, sort, normalize)\u001b[0m\n\u001b[1;32m   1085\u001b[0m \u001b[0;34m\u001b[0m\u001b[0m\n\u001b[1;32m   1086\u001b[0m         \u001b[0;32mif\u001b[0m \u001b[0;32mnot\u001b[0m \u001b[0mself\u001b[0m\u001b[0;34m.\u001b[0m\u001b[0mis_diagonalizable\u001b[0m\u001b[0;34m(\u001b[0m\u001b[0mreals_only\u001b[0m\u001b[0;34m=\u001b[0m\u001b[0mreals_only\u001b[0m\u001b[0;34m,\u001b[0m \u001b[0mclear_cache\u001b[0m\u001b[0;34m=\u001b[0m\u001b[0;32mFalse\u001b[0m\u001b[0;34m)\u001b[0m\u001b[0;34m:\u001b[0m\u001b[0;34m\u001b[0m\u001b[0;34m\u001b[0m\u001b[0m\n\u001b[0;32m-> 1087\u001b[0;31m             \u001b[0;32mraise\u001b[0m \u001b[0mMatrixError\u001b[0m\u001b[0;34m(\u001b[0m\u001b[0;34m\"Matrix is not diagonalizable\"\u001b[0m\u001b[0;34m)\u001b[0m\u001b[0;34m\u001b[0m\u001b[0;34m\u001b[0m\u001b[0m\n\u001b[0m\u001b[1;32m   1088\u001b[0m \u001b[0;34m\u001b[0m\u001b[0m\n\u001b[1;32m   1089\u001b[0m         \u001b[0meigenvecs\u001b[0m \u001b[0;34m=\u001b[0m \u001b[0mself\u001b[0m\u001b[0;34m.\u001b[0m\u001b[0m_cache_eigenvects\u001b[0m\u001b[0;34m\u001b[0m\u001b[0;34m\u001b[0m\u001b[0m\n",
      "\u001b[0;31mMatrixError\u001b[0m: Matrix is not diagonalizable"
     ]
    }
   ],
   "source": [
    "A.subs(a, 0).diagonalize()"
   ]
  },
  {
   "cell_type": "code",
   "execution_count": null,
   "metadata": {},
   "outputs": [],
   "source": []
  }
 ],
 "metadata": {
  "kernelspec": {
   "display_name": "Python 3",
   "language": "python",
   "name": "python3"
  },
  "language_info": {
   "codemirror_mode": {
    "name": "ipython",
    "version": 3
   },
   "file_extension": ".py",
   "mimetype": "text/x-python",
   "name": "python",
   "nbconvert_exporter": "python",
   "pygments_lexer": "ipython3",
   "version": "3.6.7"
  }
 },
 "nbformat": 4,
 "nbformat_minor": 2
}
