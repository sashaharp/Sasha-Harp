{
 "cells": [
  {
   "cell_type": "code",
   "execution_count": 1,
   "metadata": {},
   "outputs": [],
   "source": [
    "from sympy import *\n",
    "init_printing()"
   ]
  },
  {
   "cell_type": "code",
   "execution_count": 7,
   "metadata": {},
   "outputs": [
    {
     "data": {
      "text/latex": [
       "$$\\left[\\begin{matrix}0 & 1 & 1\\\\- 2 a - 1 & 2 a + 1 & 2 a + 1\\\\a & - a & - a + 1\\end{matrix}\\right]$$"
      ],
      "text/plain": [
       "⎡   0         1        1   ⎤\n",
       "⎢                          ⎥\n",
       "⎢-2⋅a - 1  2⋅a + 1  2⋅a + 1⎥\n",
       "⎢                          ⎥\n",
       "⎣   a        -a     -a + 1 ⎦"
      ]
     },
     "execution_count": 7,
     "metadata": {},
     "output_type": "execute_result"
    }
   ],
   "source": [
    "a = S('a')\n",
    "A= Matrix([[0, S(1), S(1)],[S(-2)*a-1, S(2)*a+1, S(2)*a+1],[a, S(-1)*a, S(-1)*a+1]])\n",
    "A"
   ]
  },
  {
   "cell_type": "code",
   "execution_count": 10,
   "metadata": {},
   "outputs": [
    {
     "data": {
      "image/png": "[encoded data removed]",
      "text/latex": [
       "$$2 a + 1$$"
      ],
      "text/plain": [
       "2⋅a + 1"
      ]
     },
     "execution_count": 10,
     "metadata": {},
     "output_type": "execute_result"
    }
   ],
   "source": [
    "det(A).simplify()"
   ]
  },
  {
   "cell_type": "code",
   "execution_count": 18,
   "metadata": {},
   "outputs": [
    {
     "data": {
      "text/latex": [
       "$$\\left[\\begin{matrix}1 & - \\frac{1}{a} & - \\frac{1}{a}\\\\0 & \\frac{- 2 a^{2} + 2 a \\sqrt{a^{2} - 6 a - 3} + a + \\sqrt{a^{2} - 6 a - 3} + 1}{a \\left(a - \\sqrt{a^{2} - 6 a - 3} + 1\\right)} & \\frac{- 2 a^{2} - 2 a \\sqrt{a^{2} - 6 a - 3} + a - \\sqrt{a^{2} - 6 a - 3} + 1}{a \\left(a + \\sqrt{a^{2} - 6 a - 3} + 1\\right)}\\\\1 & 1 & 1\\end{matrix}\\right]$$"
      ],
      "text/plain": [
       "⎡                              -1                                             \n",
       "⎢1                             ───                                            \n",
       "⎢                               a                                             \n",
       "⎢                                                                             \n",
       "⎢                   ______________          ______________                    \n",
       "⎢        2         ╱  2                    ╱  2                      2        \n",
       "⎢   - 2⋅a  + 2⋅a⋅╲╱  a  - 6⋅a - 3  + a + ╲╱  a  - 6⋅a - 3  + 1  - 2⋅a  - 2⋅a⋅╲\n",
       "⎢0  ──────────────────────────────────────────────────────────  ──────────────\n",
       "⎢                   ⎛       ______________    ⎞                               \n",
       "⎢                   ⎜      ╱  2               ⎟                               \n",
       "⎢                 a⋅⎝a - ╲╱  a  - 6⋅a - 3  + 1⎠                               \n",
       "⎢                                                                             \n",
       "⎣1                              1                                             \n",
       "\n",
       "             -1                             ⎤\n",
       "             ───                            ⎥\n",
       "              a                             ⎥\n",
       "                                            ⎥\n",
       "  ______________          ______________    ⎥\n",
       " ╱  2                    ╱  2               ⎥\n",
       "╱  a  - 6⋅a - 3  + a - ╲╱  a  - 6⋅a - 3  + 1⎥\n",
       "────────────────────────────────────────────⎥\n",
       "  ⎛       ______________    ⎞               ⎥\n",
       "  ⎜      ╱  2               ⎟               ⎥\n",
       "a⋅⎝a + ╲╱  a  - 6⋅a - 3  + 1⎠               ⎥\n",
       "                                            ⎥\n",
       "              1                             ⎦"
      ]
     },
     "execution_count": 18,
     "metadata": {},
     "output_type": "execute_result"
    }
   ],
   "source": [
    "P, D = A.diagonalize()\n",
    "P"
   ]
  },
  {
   "cell_type": "code",
   "execution_count": 13,
   "metadata": {},
   "outputs": [
    {
     "data": {
      "text/latex": [
       "$$\\left[\\begin{matrix}1 & 0 & 0\\\\0 & \\frac{a}{2} - \\frac{\\sqrt{a^{2} - 6 a - 3}}{2} + \\frac{1}{2} & 0\\\\0 & 0 & \\frac{a}{2} + \\frac{\\sqrt{a^{2} - 6 a - 3}}{2} + \\frac{1}{2}\\end{matrix}\\right]$$"
      ],
      "text/plain": [
       "⎡1              0                          0            ⎤\n",
       "⎢                                                       ⎥\n",
       "⎢          ______________                               ⎥\n",
       "⎢         ╱  2                                          ⎥\n",
       "⎢   a   ╲╱  a  - 6⋅a - 3    1                           ⎥\n",
       "⎢0  ─ - ───────────────── + ─              0            ⎥\n",
       "⎢   2           2           2                           ⎥\n",
       "⎢                                                       ⎥\n",
       "⎢                                     ______________    ⎥\n",
       "⎢                                    ╱  2               ⎥\n",
       "⎢                              a   ╲╱  a  - 6⋅a - 3    1⎥\n",
       "⎢0              0              ─ + ───────────────── + ─⎥\n",
       "⎣                              2           2           2⎦"
      ]
     },
     "execution_count": 13,
     "metadata": {},
     "output_type": "execute_result"
    }
   ],
   "source": [
    "D"
   ]
  },
  {
   "cell_type": "code",
   "execution_count": 24,
   "metadata": {},
   "outputs": [
    {
     "data": {
      "text/latex": [
       "$$\\left [ \\left[\\begin{matrix}1\\\\0\\\\1\\end{matrix}\\right]\\right ]$$"
      ],
      "text/plain": [
       "⎡⎡1⎤⎤\n",
       "⎢⎢ ⎥⎥\n",
       "⎢⎢0⎥⎥\n",
       "⎢⎢ ⎥⎥\n",
       "⎣⎣1⎦⎦"
      ]
     },
     "execution_count": 24,
     "metadata": {},
     "output_type": "execute_result"
    }
   ],
   "source": [
    "a1, a2, a3 = A.eigenvects()\n",
    "a1[2]"
   ]
  },
  {
   "cell_type": "code",
   "execution_count": 31,
   "metadata": {},
   "outputs": [
    {
     "data": {
      "text/latex": [
       "$$\\left[\\begin{matrix}- \\frac{1}{a}\\\\\\frac{- 2 a^{2} + 2 a \\sqrt{a^{2} - 6 a - 3} + a + \\sqrt{a^{2} - 6 a - 3} + 1}{a \\left(a - \\sqrt{a^{2} - 6 a - 3} + 1\\right)}\\\\1\\end{matrix}\\right]$$"
      ],
      "text/plain": [
       "⎡                           -1                             ⎤\n",
       "⎢                           ───                            ⎥\n",
       "⎢                            a                             ⎥\n",
       "⎢                                                          ⎥\n",
       "⎢                ______________          ______________    ⎥\n",
       "⎢     2         ╱  2                    ╱  2               ⎥\n",
       "⎢- 2⋅a  + 2⋅a⋅╲╱  a  - 6⋅a - 3  + a + ╲╱  a  - 6⋅a - 3  + 1⎥\n",
       "⎢──────────────────────────────────────────────────────────⎥\n",
       "⎢                ⎛       ______________    ⎞               ⎥\n",
       "⎢                ⎜      ╱  2               ⎟               ⎥\n",
       "⎢              a⋅⎝a - ╲╱  a  - 6⋅a - 3  + 1⎠               ⎥\n",
       "⎢                                                          ⎥\n",
       "⎣                            1                             ⎦"
      ]
     },
     "execution_count": 31,
     "metadata": {},
     "output_type": "execute_result"
    }
   ],
   "source": [
    "Matrix([a2[2][0][0].simplify(), a2[2][0][1].simplify(), a2[2][0][2].simplify()])"
   ]
  },
  {
   "cell_type": "code",
   "execution_count": 32,
   "metadata": {},
   "outputs": [
    {
     "data": {
      "text/latex": [
       "$$\\left[\\begin{matrix}- \\frac{1}{a}\\\\\\frac{- 2 a^{2} - 2 a \\sqrt{a^{2} - 6 a - 3} + a - \\sqrt{a^{2} - 6 a - 3} + 1}{a \\left(a + \\sqrt{a^{2} - 6 a - 3} + 1\\right)}\\\\1\\end{matrix}\\right]$$"
      ],
      "text/plain": [
       "⎡                           -1                             ⎤\n",
       "⎢                           ───                            ⎥\n",
       "⎢                            a                             ⎥\n",
       "⎢                                                          ⎥\n",
       "⎢                ______________          ______________    ⎥\n",
       "⎢     2         ╱  2                    ╱  2               ⎥\n",
       "⎢- 2⋅a  - 2⋅a⋅╲╱  a  - 6⋅a - 3  + a - ╲╱  a  - 6⋅a - 3  + 1⎥\n",
       "⎢──────────────────────────────────────────────────────────⎥\n",
       "⎢                ⎛       ______________    ⎞               ⎥\n",
       "⎢                ⎜      ╱  2               ⎟               ⎥\n",
       "⎢              a⋅⎝a + ╲╱  a  - 6⋅a - 3  + 1⎠               ⎥\n",
       "⎢                                                          ⎥\n",
       "⎣                            1                             ⎦"
      ]
     },
     "execution_count": 32,
     "metadata": {},
     "output_type": "execute_result"
    }
   ],
   "source": [
    "Matrix([a3[2][0][0].simplify(), a3[2][0][1].simplify(), a3[2][0][2].simplify()])"
   ]
  },
  {
   "cell_type": "code",
   "execution_count": 38,
   "metadata": {},
   "outputs": [
    {
     "data": {
      "text/latex": [
       "$$\\left(\\left[\\begin{matrix}2\\end{matrix}\\right]\\right)^{\\frac{1}{2}}$$"
      ],
      "text/plain": [
       "     1/2\n",
       "([2])   "
      ]
     },
     "execution_count": 38,
     "metadata": {},
     "output_type": "execute_result"
    }
   ],
   "source": [
    "sqrt(a1[2][0].transpose()@a1[2][0])"
   ]
  },
  {
   "cell_type": "code",
   "execution_count": 44,
   "metadata": {},
   "outputs": [
    {
     "data": {
      "image/png": "[encoded data removed]",
      "text/latex": [
       "$$\\sqrt{\\frac{5 a^{4} - 5 a^{3} \\sqrt{a^{2} - 6 a - 3} - 14 a^{3} - a^{2} \\sqrt{a^{2} - 6 a - 3} - 19 a^{2} + 2 a \\sqrt{a^{2} - 6 a - 3} - 10 a - 2}{a^{2} \\left(a^{2} - a \\sqrt{a^{2} - 6 a - 3} - 2 a - \\sqrt{a^{2} - 6 a - 3} - 1\\right)}}$$"
      ],
      "text/plain": [
       "        ______________________________________________________________________\n",
       "       ╱                ______________                 ______________         \n",
       "      ╱     4      3   ╱  2                  3    2   ╱  2                  2 \n",
       "     ╱   5⋅a  - 5⋅a ⋅╲╱  a  - 6⋅a - 3  - 14⋅a  - a ⋅╲╱  a  - 6⋅a - 3  - 19⋅a  \n",
       "    ╱    ─────────────────────────────────────────────────────────────────────\n",
       "   ╱                              ⎛          ______________            _______\n",
       "  ╱                             2 ⎜ 2       ╱  2                      ╱  2    \n",
       "╲╱                             a ⋅⎝a  - a⋅╲╱  a  - 6⋅a - 3  - 2⋅a - ╲╱  a  - 6\n",
       "\n",
       "___________________________________\n",
       "         ______________            \n",
       "        ╱  2                       \n",
       "+ 2⋅a⋅╲╱  a  - 6⋅a - 3  - 10⋅a - 2 \n",
       "────────────────────────────────── \n",
       "_______    ⎞                       \n",
       "           ⎟                       \n",
       "⋅a - 3  - 1⎠                       "
      ]
     },
     "execution_count": 44,
     "metadata": {},
     "output_type": "execute_result"
    }
   ],
   "source": [
    "sqrt((a2[2][0].transpose()@a2[2][0])[0].simplify())"
   ]
  },
  {
   "cell_type": "code",
   "execution_count": 46,
   "metadata": {},
   "outputs": [
    {
     "data": {
      "image/png": "[encoded data removed]",
      "text/latex": [
       "$$\\sqrt{\\frac{5 a^{4} + 5 a^{3} \\sqrt{a^{2} - 6 a - 3} - 14 a^{3} + a^{2} \\sqrt{a^{2} - 6 a - 3} - 19 a^{2} - 2 a \\sqrt{a^{2} - 6 a - 3} - 10 a - 2}{a^{2} \\left(a^{2} + a \\sqrt{a^{2} - 6 a - 3} - 2 a + \\sqrt{a^{2} - 6 a - 3} - 1\\right)}}$$"
      ],
      "text/plain": [
       "        ______________________________________________________________________\n",
       "       ╱                ______________                 ______________         \n",
       "      ╱     4      3   ╱  2                  3    2   ╱  2                  2 \n",
       "     ╱   5⋅a  + 5⋅a ⋅╲╱  a  - 6⋅a - 3  - 14⋅a  + a ⋅╲╱  a  - 6⋅a - 3  - 19⋅a  \n",
       "    ╱    ─────────────────────────────────────────────────────────────────────\n",
       "   ╱                              ⎛          ______________            _______\n",
       "  ╱                             2 ⎜ 2       ╱  2                      ╱  2    \n",
       "╲╱                             a ⋅⎝a  + a⋅╲╱  a  - 6⋅a - 3  - 2⋅a + ╲╱  a  - 6\n",
       "\n",
       "___________________________________\n",
       "         ______________            \n",
       "        ╱  2                       \n",
       "- 2⋅a⋅╲╱  a  - 6⋅a - 3  - 10⋅a - 2 \n",
       "────────────────────────────────── \n",
       "_______    ⎞                       \n",
       "           ⎟                       \n",
       "⋅a - 3  - 1⎠                       "
      ]
     },
     "execution_count": 46,
     "metadata": {},
     "output_type": "execute_result"
    }
   ],
   "source": [
    "sqrt((a3[2][0].transpose()@a3[2][0])[0].simplify())"
   ]
  },
  {
   "cell_type": "code",
   "execution_count": 49,
   "metadata": {},
   "outputs": [
    {
     "data": {
      "text/latex": [
       "$$\\left ( \\left[\\begin{matrix}1 & \\frac{1}{2} + \\frac{\\sqrt{3} i}{2} & \\frac{1}{2} - \\frac{\\sqrt{3} i}{2}\\\\0 & 1 & 1\\\\1 & 0 & 0\\end{matrix}\\right], \\quad \\left[\\begin{matrix}1 & 0 & 0\\\\0 & \\frac{1}{2} - \\frac{\\sqrt{3} i}{2} & 0\\\\0 & 0 & \\frac{1}{2} + \\frac{\\sqrt{3} i}{2}\\end{matrix}\\right]\\right )$$"
      ],
      "text/plain": [
       "⎛                         ⎡1     0         0    ⎤⎞\n",
       "⎜⎡   1   √3⋅ⅈ  1   √3⋅ⅈ⎤  ⎢                     ⎥⎟\n",
       "⎜⎢1  ─ + ────  ─ - ────⎥  ⎢   1   √3⋅ⅈ          ⎥⎟\n",
       "⎜⎢   2    2    2    2  ⎥  ⎢0  ─ - ────     0    ⎥⎟\n",
       "⎜⎢                     ⎥, ⎢   2    2            ⎥⎟\n",
       "⎜⎢0     1         1    ⎥  ⎢                     ⎥⎟\n",
       "⎜⎢                     ⎥  ⎢             1   √3⋅ⅈ⎥⎟\n",
       "⎜⎣1     0         0    ⎦  ⎢0     0      ─ + ────⎥⎟\n",
       "⎝                         ⎣             2    2  ⎦⎠"
      ]
     },
     "execution_count": 49,
     "metadata": {},
     "output_type": "execute_result"
    }
   ],
   "source": [
    "A.subs(a, 0).diagonalize()"
   ]
  }
 ],
 "metadata": {
  "kernelspec": {
   "display_name": "Python 3",
   "language": "python",
   "name": "python3"
  },
  "language_info": {
   "codemirror_mode": {
    "name": "ipython",
    "version": 3
   },
   "file_extension": ".py",
   "mimetype": "text/x-python",
   "name": "python",
   "nbconvert_exporter": "python",
   "pygments_lexer": "ipython3",
   "version": "3.6.7"
  }
 },
 "nbformat": 4,
 "nbformat_minor": 2
}
