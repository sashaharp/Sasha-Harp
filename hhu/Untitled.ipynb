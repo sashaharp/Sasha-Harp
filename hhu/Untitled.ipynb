{
 "cells": [
  {
   "cell_type": "markdown",
   "metadata": {},
   "source": [
    "LA Blatt 7"
   ]
  },
  {
   "cell_type": "markdown",
   "metadata": {},
   "source": [
    "Nr 3"
   ]
  },
  {
   "cell_type": "code",
   "execution_count": 11,
   "metadata": {},
   "outputs": [
    {
     "data": {
      "text/plain": [
       "array([[ 1.,  0.,  6.,  0.,  0.,  0.],\n",
       "       [ 0.,  1.,  0., 18.,  0.,  0.],\n",
       "       [ 0.,  0.,  1.,  0., 36.,  0.],\n",
       "       [ 0.,  0.,  0.,  1.,  0., 60.],\n",
       "       [ 0.,  0.,  0.,  0.,  1.,  0.],\n",
       "       [ 0.,  0.,  0.,  0.,  0.,  1.]])"
      ]
     },
     "execution_count": 11,
     "metadata": {},
     "output_type": "execute_result"
    }
   ],
   "source": [
    "import numpy as np\n",
    "def diffVR(k):\n",
    "    mat = np.identity(k+1)\n",
    "    i = 0\n",
    "    for n in range(k-1)[::-1]:\n",
    "        mat[0+n, 2+n] = 3*(k-i)*(k-i-1)\n",
    "        i+=1\n",
    "    return mat\n",
    "\n",
    "diffVR()"
   ]
  },
  {
   "cell_type": "code",
   "execution_count": 31,
   "metadata": {},
   "outputs": [
    {
     "name": "stdout",
     "output_type": "stream",
     "text": [
      "(4, 4)\n"
     ]
    },
    {
     "data": {
      "text/plain": [
       "array([[  1.        ,   2.        ,   3.        ,   4.        ],\n",
       "       [  0.        ,  -3.        ,  -6.        , -11.        ],\n",
       "       [  0.        ,   0.        ,  -3.        ,  -9.66666667],\n",
       "       [  0.        ,   0.        ,   0.        ,   2.22222222]])"
      ]
     },
     "execution_count": 31,
     "metadata": {},
     "output_type": "execute_result"
    }
   ],
   "source": [
    "def zeilenstufen(A):\n",
    "    shape = min(A.shape[0], A.shape[1])\n",
    "    for j in range(shape-1):\n",
    "        mat = np.identity(shape)\n",
    "        for i in range(1+j, shape):\n",
    "            mat[i, j] = -1*A[i, j]/A[j, j]\n",
    "        A = mat@A\n",
    "    return A\n",
    "A = np.array([[1, 2, 3, 4],[4, 5, 6, 5],[1, 6, 8, 9],[2, 4, 5, 7]])\n",
    "print(A.shape)\n",
    "zeilenstufen(A)"
   ]
  }
 ],
 "metadata": {
  "kernelspec": {
   "display_name": "Python 3",
   "language": "python",
   "name": "python3"
  },
  "language_info": {
   "codemirror_mode": {
    "name": "ipython",
    "version": 3
   },
   "file_extension": ".py",
   "mimetype": "text/x-python",
   "name": "python",
   "nbconvert_exporter": "python",
   "pygments_lexer": "ipython3",
   "version": "3.6.7"
  }
 },
 "nbformat": 4,
 "nbformat_minor": 2
}
