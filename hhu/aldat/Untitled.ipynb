{
 "cells": [
  {
   "cell_type": "code",
   "execution_count": 4,
   "metadata": {},
   "outputs": [
    {
     "name": "stdout",
     "output_type": "stream",
     "text": [
      "[1, 9, 2, 3, 7, 8, 4, 5, 6, 10]\n",
      "[1, 2, 9, 3, 7, 8, 4, 5, 6, 10]\n",
      "[1, 2, 3, 9, 7, 8, 4, 5, 6, 10]\n",
      "[1, 2, 3, 4, 7, 8, 9, 5, 6, 10]\n",
      "[1, 2, 3, 4, 5, 8, 9, 7, 6, 10]\n",
      "[1, 2, 3, 4, 5, 6, 9, 7, 8, 10]\n",
      "[1, 2, 3, 4, 5, 6, 7, 9, 8, 10]\n",
      "[1, 2, 3, 4, 5, 6, 7, 8, 9, 10]\n",
      "[1, 2, 3, 4, 5, 6, 7, 8, 9, 10]\n",
      "[1, 2, 3, 4, 5, 6, 7, 8, 9, 10]\n"
     ]
    }
   ],
   "source": [
    "n1 = [5, 9, 2, 3, 7, 8, 4, 1, 6, 10]\n",
    "n2 = [5, 9, 2, 3, 7, 8, 4, 1, 6, 10]\n",
    "n3 = [5, 9, 2, 3, 7, 8, 4, 1, 6, 10]\n",
    "n = len(n1)\n",
    "for i in range(n):\n",
    "    m = i\n",
    "    for j in range(i+1, n):\n",
    "        if n1[j]<n1[m]:\n",
    "            m = j\n",
    "    n1[i], n1[m] = n1[m], n1[i]\n",
    "    print(n1)"
   ]
  },
  {
   "cell_type": "code",
   "execution_count": 5,
   "metadata": {},
   "outputs": [
    {
     "name": "stdout",
     "output_type": "stream",
     "text": [
      "[5, 9, 2, 3, 7, 8, 4, 1, 6, 10]\n",
      "[5, 9, 2, 3, 7, 8, 4, 1, 6, 10]\n",
      "[2, 5, 9, 3, 7, 8, 4, 1, 6, 10]\n",
      "[2, 3, 5, 9, 7, 8, 4, 1, 6, 10]\n",
      "[2, 3, 5, 7, 9, 8, 4, 1, 6, 10]\n",
      "[2, 3, 5, 7, 8, 9, 4, 1, 6, 10]\n",
      "[2, 3, 4, 5, 7, 8, 9, 1, 6, 10]\n",
      "[1, 2, 3, 4, 5, 7, 8, 9, 6, 10]\n",
      "[1, 2, 3, 4, 5, 6, 7, 8, 9, 10]\n",
      "[1, 2, 3, 4, 5, 6, 7, 8, 9, 10]\n"
     ]
    }
   ],
   "source": [
    "for i in range(n):\n",
    "    j = i\n",
    "    while j>0 and n2[j]<n2[j-1]:\n",
    "        n2[j], n2[j-1] = n2[j-1], n2[j]\n",
    "        j-=1\n",
    "    print(n2)"
   ]
  },
  {
   "cell_type": "code",
   "execution_count": 6,
   "metadata": {},
   "outputs": [
    {
     "name": "stdout",
     "output_type": "stream",
     "text": [
      "[5, 2, 3, 7, 8, 4, 1, 6, 9, 10]\n",
      "[2, 3, 5, 7, 4, 1, 6, 8, 9, 10]\n",
      "[2, 3, 5, 4, 1, 6, 7, 8, 9, 10]\n",
      "[2, 3, 4, 1, 5, 6, 7, 8, 9, 10]\n",
      "[2, 3, 1, 4, 5, 6, 7, 8, 9, 10]\n",
      "[2, 1, 3, 4, 5, 6, 7, 8, 9, 10]\n",
      "[1, 2, 3, 4, 5, 6, 7, 8, 9, 10]\n",
      "[1, 2, 3, 4, 5, 6, 7, 8, 9, 10]\n"
     ]
    }
   ],
   "source": [
    "swapped = True\n",
    "while swapped:\n",
    "    swapped = False\n",
    "    for i in range(n-1):\n",
    "        if n3[i] > n3[i+1]:\n",
    "            n3[i], n3[i+1] = n3[i+1], n3[i]\n",
    "            swapped = True\n",
    "    print(n3)"
   ]
  },
  {
   "cell_type": "code",
   "execution_count": null,
   "metadata": {},
   "outputs": [],
   "source": []
  }
 ],
 "metadata": {
  "kernelspec": {
   "display_name": "Python 3",
   "language": "python",
   "name": "python3"
  },
  "language_info": {
   "codemirror_mode": {
    "name": "ipython",
    "version": 3
   },
   "file_extension": ".py",
   "mimetype": "text/x-python",
   "name": "python",
   "nbconvert_exporter": "python",
   "pygments_lexer": "ipython3",
   "version": "3.7.4"
  }
 },
 "nbformat": 4,
 "nbformat_minor": 2
}
