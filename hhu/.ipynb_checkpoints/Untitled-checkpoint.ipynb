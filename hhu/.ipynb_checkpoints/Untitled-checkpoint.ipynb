{
 "cells": [
  {
   "cell_type": "markdown",
   "metadata": {},
   "source": [
    "LA Blatt 7"
   ]
  },
  {
   "cell_type": "markdown",
   "metadata": {},
   "source": [
    "Nr 3"
   ]
  },
  {
   "cell_type": "code",
   "execution_count": 11,
   "metadata": {},
   "outputs": [
    {
     "data": {
      "text/plain": [
       "array([[ 1.,  0.,  6.,  0.,  0.,  0.],\n",
       "       [ 0.,  1.,  0., 18.,  0.,  0.],\n",
       "       [ 0.,  0.,  1.,  0., 36.,  0.],\n",
       "       [ 0.,  0.,  0.,  1.,  0., 60.],\n",
       "       [ 0.,  0.,  0.,  0.,  1.,  0.],\n",
       "       [ 0.,  0.,  0.,  0.,  0.,  1.]])"
      ]
     },
     "execution_count": 11,
     "metadata": {},
     "output_type": "execute_result"
    }
   ],
   "source": [
    "import numpy as np\n",
    "def diffVR(k):\n",
    "    mat = np.identity(k+1)\n",
    "    i = 0\n",
    "    for n in range(k-1)[::-1]:\n",
    "        mat[0+n, 2+n] = 3*(k-i)*(k-i-1)\n",
    "        i+=1\n",
    "    return mat\n",
    "\n",
    "diffVR()"
   ]
  },
  {
   "cell_type": "code",
   "execution_count": 21,
   "metadata": {},
   "outputs": [
    {
     "data": {
      "text/plain": [
       "array([[  1.,   2.,   3.],\n",
       "       [ -4., -11., -18.],\n",
       "       [ -1.,   8.,  14.]])"
      ]
     },
     "execution_count": 21,
     "metadata": {},
     "output_type": "execute_result"
    }
   ],
   "source": [
    "def zeilenstufen(A):\n",
    "    for j in range(A.shape[0]-1):\n",
    "        mat = np.identity(A.shape[0])\n",
    "        for i in range(1+j, A.shape[0]):\n",
    "            mat[i, j] = -1*A[i, j]/A[0, j]\n",
    "        A = mat@A\n",
    "    return A\n",
    "\n",
    "zeilenstufen(np.array([[1, 2, 3],[4, 5, 6],[1, 6, 8]]))"
   ]
  }
 ],
 "metadata": {
  "kernelspec": {
   "display_name": "Python 3",
   "language": "python",
   "name": "python3"
  },
  "language_info": {
   "codemirror_mode": {
    "name": "ipython",
    "version": 3
   },
   "file_extension": ".py",
   "mimetype": "text/x-python",
   "name": "python",
   "nbconvert_exporter": "python",
   "pygments_lexer": "ipython3",
   "version": "3.6.7"
  }
 },
 "nbformat": 4,
 "nbformat_minor": 2
}
